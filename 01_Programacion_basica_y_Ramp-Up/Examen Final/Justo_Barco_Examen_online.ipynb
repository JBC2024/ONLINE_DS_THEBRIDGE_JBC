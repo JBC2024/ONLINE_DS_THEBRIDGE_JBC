{
 "cells": [
  {
   "cell_type": "markdown",
   "id": "1f1401c1-4dc9-4902-95bf-160715a42a25",
   "metadata": {},
   "source": [
    "# Prueba de Ramp-up"
   ]
  },
  {
   "cell_type": "markdown",
   "id": "1b34c670-a6dd-482d-9b04-5babee7be17a",
   "metadata": {},
   "source": [
    "Antes de comenzar, cambia el nombre del archivo notebook poniéndole delante tu nombre y primer apellido:\n",
    "\n",
    "* ``<nombre_apellido>_examen_online.ipynb``"
   ]
  },
  {
   "cell_type": "code",
   "execution_count": null,
   "id": "c8d9a657-272c-425a-9ac4-ea59f479673c",
   "metadata": {},
   "outputs": [],
   "source": [
    "# Escribe tu nombre en la variable:\n",
    "nombre_y_apellidos = \"Justo Barco\" "
   ]
  },
  {
   "cell_type": "code",
   "execution_count": 2,
   "id": "2e9f9af5-076c-44ec-9a80-95c0e99cdc58",
   "metadata": {},
   "outputs": [],
   "source": [
    "\"\"\"\n",
    "Criterios de corrección:\n",
    "\n",
    "ejecución (ausencia de errores y obtención de resultados)\n",
    "estructura del código\n",
    "uso correcto de variables\n",
    "manejo de tipo de variables\n",
    "asignaciones\n",
    "operaciones booleanas\n",
    "manejo lógico de flujos de control y bucles\n",
    "uso de colecciones\n",
    "uso de funciones\n",
    "\"\"\";\n",
    "\n",
    "# Ejemplo de como queremos ver el código para más de un intento:\n",
    "\n",
    "# intento 1\n",
    "#your code\n",
    "\n",
    "# intento 2\n",
    "#your code"
   ]
  },
  {
   "cell_type": "code",
   "execution_count": 3,
   "id": "bb16d0e3-3bb9-4f2b-944e-8fc35e628701",
   "metadata": {},
   "outputs": [],
   "source": [
    "# crea todas las celdas que necesites"
   ]
  },
  {
   "cell_type": "markdown",
   "id": "9e02b8f5-6f66-4e73-acfa-7f8c3977de2a",
   "metadata": {},
   "source": [
    "#### Notas y pruebas de apoyo para contestar las preguntas\n",
    "\n",
    "\n",
    "Cualquier código aunque no esté correcto nos dirá más de ti que no escribir nada. "
   ]
  },
  {
   "cell_type": "markdown",
   "id": "57d6b062-27f8-4377-b583-d662777b0bd7",
   "metadata": {},
   "source": [
    "__Debes subir este notebook a tu REPO PERSONAL__\n",
    "\n",
    "__Hora: hasta las 13:30 del 06/11/2024__"
   ]
  },
  {
   "cell_type": "markdown",
   "id": "062d81e8",
   "metadata": {},
   "source": [
    "#### Ejercicio 1\n",
    "\n",
    "Disponemos de una lista con información sobre varios empleados:\n",
    "\n",
    "    empleados = \n",
    "    [[12345, \"Juan Rodríguez\", 53, [\"Director financiero\"], 2],[56789, \"Laura Pérez\", 41, [\"CEO\", \"Director\", \"Gerente\"], 2],[88354, \"Pedro Álvarez\", 26, [\"Asistente\",\"Gestor comercial\"], 3]]\n",
    "\n",
    "Respecto de cada empleado, la lista contiene cinco elementos: en el primero almacenamos su tfno, en el segundo su nombre, en el tercero su edad, en el cuarto los puestos que ha desempeñado en la empresa (en forma de lista) y en el quinto su código postal.\n",
    "\n",
    "1. Siguiendo la misma estructura, incluye un nuevo empleado en la última posición de la lista empleados.\n",
    "\n",
    "2. Mostrar por pantalla, sin uso de funciones (salvo print) ni bucles: \n",
    "\n",
    "    - El nombre y la edad del tercer empleado de la lista empleados.\n",
    "    - Los puestos desempeñados por Pedro Álvarez, ordenados de atras a adelante (es decir, de Gestor comercial a Asistente)\n",
    "    - Si el nuevo empleado que has añadido tiene más o igual a 60 años, muestra por pantalla los puestos que el nuevo empleado haya desempeñado en la empresa. En caso contrario, muestra los puestos desempeñados por Laura Pérez y Juan Rodriguez."
   ]
  },
  {
   "cell_type": "code",
   "execution_count": 1,
   "id": "c6516cf7",
   "metadata": {},
   "outputs": [],
   "source": [
    "empleados = [[12345, \"Juan Rodríguez\", 53, [\"Director financiero\"], 2],[56789, \"Laura Pérez\", 41, [\"CEO\", \"Director\", \"Gerente\"], 2],[88354, \"Pedro Álvarez\", 26, [\"Asistente\",\"Gestor comercial\"], 3]]"
   ]
  },
  {
   "cell_type": "code",
   "execution_count": 2,
   "id": "418b45a7",
   "metadata": {},
   "outputs": [
    {
     "name": "stdout",
     "output_type": "stream",
     "text": [
      "[[12345, 'Juan Rodríguez', 53, ['Director financiero'], 2], [56789, 'Laura Pérez', 41, ['CEO', 'Director', 'Gerente'], 2], [88354, 'Pedro Álvarez', 26, ['Asistente', 'Gestor comercial'], 3], [1234, 'Marina Gomez', 22, ['Asistente'], 1]]\n",
      "El tercer empleado se llama 'Pedro Álvarez' y tiene 26 años\n",
      "['Asistente', 'Gestor comercial']\n",
      "Puestos desempañados por Laura Pérez ['CEO', 'Director', 'Gerente']\n",
      "Puestos desempañados por Juan Rodríguez ['Director financiero']\n"
     ]
    }
   ],
   "source": [
    "#Ejercicio 1.1. Añadimos un nuevvo empleado en la última posicion\n",
    "empleados.append([1234, \"Marina Gomez\", 22, [\"Asistente\"], 1])\n",
    "print(empleados)\n",
    "\n",
    "# Ejercicio 1.2. Mostrar por pantalla\n",
    " \n",
    "# El nombre y la edad del tercer empleado de la lista empleados.\n",
    "print(f\"El tercer empleado se llama '{empleados[2][1]}' y tiene {empleados[2][2]} años\")\n",
    "\n",
    "# Los puestos desempeñados por Pedro Álvarez, ordenados de atras a adelante (es decir, de Gestor comercial a Asistente)\n",
    "print(f\"{empleados[2][3]}\")\n",
    "\n",
    "#Si el nuevo empleado que has añadido tiene más o igual a 60 años, muestra por pantalla los puestos que el nuevo empleado \n",
    "# haya desempeñado en la empresa. En caso contrario, muestra los puestos desempeñados por Laura Pérez y Juan Rodriguez.\n",
    "print(f\"Puestos desempañados por {empleados[1][1]} {empleados[1][3]}\")\n",
    "print(f\"Puestos desempañados por {empleados[0][1]} {empleados[0][3]}\")"
   ]
  },
  {
   "cell_type": "code",
   "execution_count": null,
   "id": "ae316b4b",
   "metadata": {},
   "outputs": [
    {
     "name": "stdout",
     "output_type": "stream",
     "text": [
      "[[12345, 'Juan Rodríguez', 53, ['Director financiero'], 2], [56789, 'Laura Pérez', 41, ['CEO', 'Director', 'Gerente'], 2], [88354, 'Pedro Álvarez', 26, ['Asistente', 'Gestor comercial'], 3], [1234, 'Marina Gómez', 22, ['Asistente'], 1]]\n",
      "El tercer empleado se llama Pedro Álvarez y tiene 26 años\n",
      "['Gestor comercial', 'Asistente']\n",
      "Puestos desempeñados por Laura Pérez ['CEO', 'Director', 'Gerente']\n",
      "Puestos desempeñados por Juan Rodriguez ['Director financiero']\n"
     ]
    }
   ],
   "source": []
  },
  {
   "cell_type": "markdown",
   "id": "4da89624-0da3-4f91-aa5c-a084c5ee1b17",
   "metadata": {},
   "source": [
    "#### Ejercicio 2. \n",
    "\n",
    "Escribe un programa que te diga si una letra es una consonante o una vocal. Crea tu propia **FUNCIÓN**\n"
   ]
  },
  {
   "cell_type": "code",
   "execution_count": 3,
   "id": "352c299b",
   "metadata": {},
   "outputs": [],
   "source": [
    "#Definimos estas vvariables que son útiles para el ejercicio 2 y el ejercicio 4\n",
    "vocales = \"aeiou\"\n",
    "vocales_acentuadas = \"áéíóú\"\n",
    "consonantes = \"bcdfghjklmnñpqrstwxyz\""
   ]
  },
  {
   "cell_type": "code",
   "execution_count": null,
   "id": "a8a90985",
   "metadata": {},
   "outputs": [
    {
     "name": "stdout",
     "output_type": "stream",
     "text": [
      "f es una consonante\n"
     ]
    }
   ],
   "source": [
    "# Ejercicio 2\n",
    "def comprobar_consonante_o_vocal(letra):\n",
    "    resultado = \"\"\n",
    "\n",
    "    if len(letra) != 1: # Comprobamos que tenga solo un carácter\n",
    "        print(\"ERROR: El parámetro de letra debe tener un caracter\")\n",
    "    elif vocales.find(letra.lower()) > -1: #Comprobamos si es una vocal\n",
    "        resultado = \"vocal\"\n",
    "    elif consonantes.find(letra.lower()) > -1:  #Comprobamos si es una consonante\n",
    "        resultado = \"consonante\"\n",
    "    else:  # En cualquier otro caso es un carácter no válido\n",
    "        print(\"ERROR: Carácter no válido\")\n",
    "    if resultado !=\"\":\n",
    "        print(f\"{caracter} es una {resultado}\")    \n",
    "\n",
    "caracter = \"f\"\n",
    "comprobar_consonante_o_vocal(caracter)"
   ]
  },
  {
   "cell_type": "code",
   "execution_count": null,
   "id": "c58bf610-92de-4a5a-a00d-652279ea33dd",
   "metadata": {},
   "outputs": [
    {
     "name": "stdout",
     "output_type": "stream",
     "text": [
      "f es una consonante.\n"
     ]
    }
   ],
   "source": []
  },
  {
   "cell_type": "markdown",
   "id": "52065a6c-3d4c-44c0-a10b-958506c481b3",
   "metadata": {},
   "source": [
    "#### Ejercicio 3. \n",
    "\n",
    "Escribe un programa que calcule la edad humana de un perro.\n",
    "Tienes que pedirle al usuario la edad del perro en años.\n",
    "Si el usuario introduce un número negativo, imprime que la cifra facilitada no tiene sentido. Si el perro tiene un año, son 14 años humanos. Si tiene 2 años, son 22 años humanos.\n",
    "A partir de los 2 años, el cálculo es el siguiente: a la edad del perro se le restan 2 años, el resultado se multiplica por 5 y, finalmente, se le suma 22.\n",
    "Usa una función sin argumentos de entrada ni de salida (muestra toda la información con print())"
   ]
  },
  {
   "cell_type": "code",
   "execution_count": null,
   "id": "498058c0",
   "metadata": {},
   "outputs": [
    {
     "name": "stdout",
     "output_type": "stream",
     "text": [
      "Edad humana 32\n"
     ]
    }
   ],
   "source": [
    "# Ejercicio 3\n",
    "\n",
    "def calcular_edad_humana():\n",
    "    input_edad_perro = input(\"Dime la edad del perro\")\n",
    "\n",
    "    if input_edad_perro.isdigit() == False: # Si es cualquier cadena que no son solo números (numeros negativos, sería False también)\n",
    "        print(\"La cifra facilitada no tiene sentido\")\n",
    "    else:\n",
    "        edad_perro = int(input_edad_perro)\n",
    "\n",
    "        resultado = 0\n",
    "        if edad_perro <= 2: # Edad entre 0 y 2 años\n",
    "            resultado = edad_perro  * 14\n",
    "        else: # Edad mayor de 2 años\n",
    "            resultado = ((edad_perro - 2) * 5) + 22\n",
    "\n",
    "        print(f\"Edad humana {resultado}\")\n",
    "\n",
    "calcular_edad_humana()"
   ]
  },
  {
   "cell_type": "code",
   "execution_count": null,
   "id": "9c59c801-1fe1-4a6d-a000-f85ca738ed00",
   "metadata": {},
   "outputs": [
    {
     "name": "stdout",
     "output_type": "stream",
     "text": [
      "\n",
      "Edad humana 32\n"
     ]
    }
   ],
   "source": []
  },
  {
   "cell_type": "code",
   "execution_count": null,
   "id": "2adb3e08",
   "metadata": {},
   "outputs": [],
   "source": []
  },
  {
   "cell_type": "markdown",
   "id": "2991309f-4208-431a-900c-d9bc734bb936",
   "metadata": {},
   "source": [
    "#### Ejercicio 4. \n",
    "\n",
    "Escribe un programa que te diga si una frase es un pangrama. Un pangrama es una frase que contiene todas las letras del alfabeto.\n",
    "Puedes tener espacios en blanco, pero NO  tendrás signos de puntuación, a excepción de las tildes.\n",
    "\n",
    "Ejemplo de pangrama:\n",
    "\n",
    "Extraño pan de col y kiwi se quemó bajo fugaz vaho "
   ]
  },
  {
   "cell_type": "code",
   "execution_count": null,
   "id": "0c8c1de4",
   "metadata": {},
   "outputs": [
    {
     "name": "stdout",
     "output_type": "stream",
     "text": [
      "True\n"
     ]
    }
   ],
   "source": [
    "# Ejercicio 4\n",
    "#Utilizamos las variables ya definidas en el ejercicio 2 (vocales, vocales acentuadas y consonantes)\n",
    "def is_pangrama(frase):\n",
    "    nueva_frase = frase\n",
    "    for idx,acento in enumerate(vocales_acentuadas):\n",
    "        nueva_frase = nueva_frase.replace(acento, vocales[idx])\n",
    "    \n",
    "    # Unificamos tanto vocales como consonantes para comprobar si están todas en la frase\n",
    "    letras = vocales + consonantes \n",
    "\n",
    "    # Contamos las letras que aparecen en la frase\n",
    "    contador = 0\n",
    "    for l in letras:\n",
    "        if nueva_frase.find(l) == -1:\n",
    "            break\n",
    "        else:\n",
    "            contador += 1\n",
    "    \n",
    "    # Se cuumple la condicion si el contador es igual al número total de letras\n",
    "    return contador == len(letras)\n",
    "\n",
    "frase = \"Extraño pan de col y kiwi se quemó bajo fugaz vaho\"\n",
    "print(is_pangrama(frase))"
   ]
  },
  {
   "cell_type": "code",
   "execution_count": null,
   "id": "9a349c1e-15ab-4253-97f8-2a07a263791d",
   "metadata": {},
   "outputs": [
    {
     "name": "stdout",
     "output_type": "stream",
     "text": [
      "True\n"
     ]
    }
   ],
   "source": []
  },
  {
   "cell_type": "markdown",
   "id": "3dbb76e0-79b2-45e8-9034-58ee9cbd82bb",
   "metadata": {},
   "source": [
    "#### Ejercicio 5. \n",
    "\n",
    "Escribe un programa que use diccionarios para traducir palabras entre varios idiomas.\n",
    "Deberás pedirle al usuario una palabra por teclado, ver si está en tu diccionario. En caso de que esté, deberás mostrar la traducción de esa palabra.\n",
    "\n",
    "Ejemplo de diccionario:\n",
    "\n",
    "```python\n",
    "{\"file\": \"Fichier\", \"new\": \"Nouveau\", \"open\": \"Ouvrir\", \"save\": \"Enregistrer\", \"save as\": \"Enregistrer sous\", \"print preview\": \"Apercu avant impressioner\", \"print\": \"Imprimer\", \"close\": \"Fermer\", \"exit\": \"Quitter\"}\n"
   ]
  },
  {
   "cell_type": "code",
   "execution_count": null,
   "id": "f2efad9f",
   "metadata": {},
   "outputs": [
    {
     "name": "stdout",
     "output_type": "stream",
     "text": [
      "La palabra no está en el diccionario\n"
     ]
    }
   ],
   "source": [
    "# Ejercicio 5\n",
    "\n",
    "dict_traducciones = {\"file\": \"Fichier\", \"new\": \"Nouveau\", \"open\": \"Ouvrir\", \"save\": \"Enregistrer\", \"save as\": \"Enregistrer sous\", \"print preview\": \"Apercu avant impressioner\", \"print\": \"Imprimer\", \"close\": \"Fermer\", \"exit\": \"Quitter\"}\n",
    "\n",
    "#Solicitamos al usuario que indique la palabra\n",
    "palabra = input(\"Introduce una palabra\")\n",
    "\n",
    "if palabra in dict_traducciones: # Verificamos si es una de las claves del diccionario\n",
    "    print(f\"La traducción de '{palabra}' es '{dict_traducciones[palabra]}'\")\n",
    "else:\n",
    "    print(\"La palabra no está en el diccionario\")"
   ]
  },
  {
   "cell_type": "code",
   "execution_count": null,
   "id": "88236123-e8ac-45da-87d0-134a88a690c1",
   "metadata": {},
   "outputs": [
    {
     "name": "stdout",
     "output_type": "stream",
     "text": [
      "La palabra no está en el diccionario\n"
     ]
    }
   ],
   "source": []
  },
  {
   "cell_type": "markdown",
   "id": "61967ca4-7e06-44b3-ad7b-adbc0e71671a",
   "metadata": {},
   "source": [
    "#### Ejercicio 6. (Bonus).\n",
    "\n",
    "Usando `OOP` modela un theremin (es un instrumento musical que se toca modificando el campo electromagnético, por si tenías curiosidad).\n",
    "Tendrá de atributos la marca, el modelo, el peso, la potencia y la batería.\n",
    "\n",
    "Todos los instrumentos se crean con un peso predeterminado de 500, una potencia de 50 y una batería de 200.\n",
    "\n",
    "Cuando se recarga la batería vale 200.\n",
    "\n",
    "Cuando se toca, se muestra por pantalla que está sonando y la batería disminuye 10 (no siendo nunca negativo).\n",
    "Si no hay batería, no puede sonar. Crea un instrumento, tócalo mientras quede batería, cárgalo y no lo vuelvas a tocar.\n"
   ]
  },
  {
   "cell_type": "code",
   "execution_count": null,
   "id": "3f7f6ce9",
   "metadata": {},
   "outputs": [],
   "source": [
    "# Ejercicio 6. Definiciones\n",
    "\n",
    "#Definimos la clase Theremin\n",
    "class Theremin:\n",
    "    \n",
    "    #Constructor de la clase con valores por defecto peso = 500, potencia = 50, bateria = 200\n",
    "    def __init__(self, marca, modelo, peso = 500, potencia = 50, bateria = 200):\n",
    "        self.marca = marca\n",
    "        self.modelo = modelo\n",
    "        self.peso = peso\n",
    "        self.potencia = potencia\n",
    "        self.bateria = bateria\n",
    "\n",
    "    # Metodo para cargar la bateria. Cuanddo se recarga vale 200\n",
    "    def recargar_bateria(self):\n",
    "        self.bateria = 200\n",
    "        print(\"Bateria llena\")\n",
    "    \n",
    "    # Método para ttocar. Cuando se toca, se muestra por pantalla que está sonando y la batería disminuye 10 (no siendo nunca negativo).\n",
    "    #  Si no hay batería, no puede sonar\n",
    "    def tocar(self):\n",
    "        if self.bateria == 0:\n",
    "            print(\"El theremin modelo_molon no tiene batería.\")\n",
    "        if self.bateria > 0:\n",
    "            self.bateria -= 10\n",
    "            print(f\"El theremin modelo_molon está tocando.\")\n",
    "    "
   ]
  },
  {
   "cell_type": "code",
   "execution_count": null,
   "id": "5e037fbf",
   "metadata": {},
   "outputs": [
    {
     "name": "stdout",
     "output_type": "stream",
     "text": [
      "El theremin modelo_molon está tocando. 190\n",
      "El theremin modelo_molon está tocando. 180\n",
      "El theremin modelo_molon está tocando. 170\n",
      "El theremin modelo_molon está tocando. 160\n",
      "El theremin modelo_molon está tocando. 150\n",
      "El theremin modelo_molon está tocando. 140\n",
      "El theremin modelo_molon está tocando. 130\n",
      "El theremin modelo_molon está tocando. 120\n",
      "El theremin modelo_molon está tocando. 110\n",
      "El theremin modelo_molon está tocando. 100\n",
      "El theremin modelo_molon está tocando. 90\n",
      "El theremin modelo_molon está tocando. 80\n",
      "El theremin modelo_molon está tocando. 70\n",
      "El theremin modelo_molon está tocando. 60\n",
      "El theremin modelo_molon está tocando. 50\n",
      "El theremin modelo_molon está tocando. 40\n",
      "El theremin modelo_molon está tocando. 30\n",
      "El theremin modelo_molon está tocando. 20\n",
      "El theremin modelo_molon está tocando. 10\n",
      "El theremin modelo_molon está tocando. 0\n",
      "El theremin modelo_molon no tiene batería.\n",
      "Bateria llena\n"
     ]
    }
   ],
   "source": [
    "# Ejercicio 6. Ejecución\n",
    "theremin = Theremin(\"super\",\"avanzado\")\n",
    "salir = False\n",
    "while salir == False:\n",
    "    salir = theremin.bateria == 0\n",
    "    theremin.tocar()\n",
    "    if salir:\n",
    "        theremin.recargar_bateria()\n"
   ]
  },
  {
   "cell_type": "code",
   "execution_count": null,
   "id": "8082c8cd-03a9-478e-aa72-4ec1306e1bb2",
   "metadata": {},
   "outputs": [
    {
     "name": "stdout",
     "output_type": "stream",
     "text": [
      "El theremin modelo_molon está tocando.\n",
      "El theremin modelo_molon está tocando.\n",
      "El theremin modelo_molon está tocando.\n",
      "El theremin modelo_molon está tocando.\n",
      "El theremin modelo_molon está tocando.\n",
      "El theremin modelo_molon está tocando.\n",
      "El theremin modelo_molon está tocando.\n",
      "El theremin modelo_molon está tocando.\n",
      "El theremin modelo_molon está tocando.\n",
      "El theremin modelo_molon está tocando.\n",
      "El theremin modelo_molon está tocando.\n",
      "El theremin modelo_molon está tocando.\n",
      "El theremin modelo_molon está tocando.\n",
      "El theremin modelo_molon está tocando.\n",
      "El theremin modelo_molon está tocando.\n",
      "El theremin modelo_molon está tocando.\n",
      "El theremin modelo_molon está tocando.\n",
      "El theremin modelo_molon está tocando.\n",
      "El theremin modelo_molon está tocando.\n",
      "El theremin modelo_molon está tocando.\n",
      "El theremin modelo_molon no tiene batería.\n",
      "Bateria llena.\n"
     ]
    }
   ],
   "source": []
  },
  {
   "cell_type": "markdown",
   "id": "30f773b5-a6da-4446-b36b-722b2ee57730",
   "metadata": {},
   "source": [
    "#### Ejercicio 7. Extra (NO PUNTÚA).\n",
    "Una empresa usa dos listas  para guardar la información de sus empleados. Una lista guarda el nombre del empleado y la otra guarda su salario. Escribe un programa que cree esas dos listas originalmente vacías y que a través de un menú pueda hacer lo siguiente:\n",
    "    \n",
    "Inserta 1 para añadir un nuevo empleado y su salario\n",
    "\n",
    "Inserta 2 para imprimir los nombres y salarios de todos los empleados\n",
    "\n",
    "Inserta 3 para mostrar el número de empleados\n",
    "\n",
    "Inserta 4 para imprimir los nombres de los empleados con sueldos superiores a 400000\n",
    "\n",
    "Inserta 5 para subir un 5% los sueldos por debajo de 10000\n",
    "\n",
    "Inserta 6 para mostrar el total de todos los salarios\n",
    "\n",
    "Inserta 7 para salir del programa"
   ]
  },
  {
   "cell_type": "code",
   "execution_count": null,
   "id": "2da0c09d",
   "metadata": {},
   "outputs": [],
   "source": [
    "# Ejercicio 7. Definiciones\n",
    "lista_nombres = []\n",
    "lista_salarios = []\n",
    "\n",
    "# Opción 1. Añadir un nuevo empleado con el salario asociado\n",
    "def nuevo_empleado(nombre, salario):\n",
    "    lista_nombres.append(nombre)\n",
    "    lista_salarios.append(salario)\n",
    "\n",
    "# Opción 2. Imprimir todos los salarios. Utilizamos la función anterior y le pasamos 0 para que imprima todos\n",
    "def imprimir_todo():\n",
    "    for i, n in enumerate(lista_nombres):\n",
    "        print(n, lista_salarios[i])\n",
    "\n",
    "# Opción 3. Muestra el número total de empleados\n",
    "def mostrar_numero_empleados():\n",
    "    print(len(lista_nombres))\n",
    "\n",
    "# Opción 4. Imprimir los empleados que tengan un salario superio al especificado\n",
    "def imprimir():\n",
    "    for i, n in enumerate(lista_nombres):\n",
    "        salario = lista_salarios[i]\n",
    "        if salario > 40000:\n",
    "            print(n)\n",
    "\n",
    "# Opción 5. Subir 5% los suelldos por debajjo de 10000\n",
    "def subir_salarios():\n",
    "    for idx, e in enumerate(lista_salarios):\n",
    "        if lista_salarios[idx] < 10000\n",
    "            lista_salarios[idx] = e * 1.05\n",
    "\n",
    "\n",
    "# Opción 6. Mostrar total salarios\n",
    "def mostrar_total_salarios():\n",
    "    print(sum(lista_salarios))\n"
   ]
  },
  {
   "cell_type": "code",
   "execution_count": 27,
   "id": "e6f885e4",
   "metadata": {},
   "outputs": [
    {
     "name": "stdout",
     "output_type": "stream",
     "text": [
      "[20000, 5000, 3000, 2000]\n"
     ]
    }
   ],
   "source": [
    "# Ejercicio 7. Ejecución\n",
    "# TODO: Solicitar al usuario que seleccione la opción correspondiente y ejecutar el método que corresponda\n",
    "\n",
    "subir_salarios()"
   ]
  },
  {
   "cell_type": "code",
   "execution_count": null,
   "id": "67858e27-b7f5-4e05-bc50-3fca698ad22a",
   "metadata": {},
   "outputs": [
    {
     "name": "stdout",
     "output_type": "stream",
     "text": [
      "\n",
      "\n",
      "¡Bienvenido!\n",
      "\n",
      "Inserta 1 para añadir un nuevo empleado y su salario\n",
      "Inserta 2 para imprimir los nombres y salarios de todos los empleados\n",
      "Inserta 3 para mostrar el número de empleados\n",
      "Inserta 4 para imprimir los nombres de los empleados con sueldos superiores a 400000\n",
      "Inserta 5 para subir un 5% los sueldos por debajo de 10000\n",
      "Inserta 6 para mostrar el total de todos los salarios\n",
      "Inserta 7 para salir del programa\n",
      "\n",
      "    \n",
      "\n",
      "Suma de todos los sueldos:  10000\n",
      "\n",
      "Cantidad de empleados:  1\n",
      "\n",
      "¡Gracias por usar el programa!\n"
     ]
    }
   ],
   "source": []
  },
  {
   "cell_type": "markdown",
   "id": "e33a0e21-476e-4103-b889-a6b3e76b99f3",
   "metadata": {},
   "source": [
    "\n",
    "####  Ejercicio 8. EXTRA (NO PUNTÚA).\n",
    "\n",
    "Escribe un programa que __USE RECURSIVIDAD__ para decidir cuál es la película de Pixar favorita de un usuario.\n",
    "El programa preguntará al usuario cuál de 2 películas es su favorita, y con esa favorita se le volverá a preguntar entre esa y otra película cuál es su favorita...y así hasta que el usuario haya decidido de entre todas cuál es su favorita.\n",
    "\n",
    "Pista: si no quieres cambiar una lista, usa copy() y tendrás una copia que es otro objeto\n",
    "\n"
   ]
  },
  {
   "cell_type": "code",
   "execution_count": null,
   "id": "c9936fd4-6d29-4535-9f34-a6f289d18d8b",
   "metadata": {},
   "outputs": [
    {
     "name": "stdout",
     "output_type": "stream",
     "text": [
      "Si prefieres Toy Story marca 1, si prefieres Soul marca 2: 1\n",
      "Prefieres Toy Story\n",
      "Si prefieres Toy Story marca 1, si prefieres Up marca 2: 2\n",
      "Prefieres Up\n",
      "Si prefieres Up marca 1, si prefieres Coco marca 2: 2\n",
      "Prefieres Coco\n",
      "Si prefieres Coco marca 1, si prefieres Luca marca 2: 1\n",
      "Prefieres Coco\n",
      "Si prefieres Coco marca 1, si prefieres Monsters marca 2: 2\n",
      "Prefieres Monsters\n",
      "Si prefieres Monsters marca 1, si prefieres Inside Out marca 2: 1\n",
      "Prefieres Monsters\n",
      "Si prefieres Monsters marca 1, si prefieres WallE marca 2: 2\n",
      "Prefieres WallE\n",
      "Si prefieres WallE marca 1, si prefieres Buscando a Nemo marca 2: 2\n",
      "Prefieres Buscando a Nemo\n",
      "Si prefieres Buscando a Nemo marca 1, si prefieres Los increíbles marca 2: 1\n",
      "Prefieres Buscando a Nemo\n",
      "\n",
      "Prefieres finalmente Buscando a Nemo\n"
     ]
    }
   ],
   "source": []
  },
  {
   "cell_type": "code",
   "execution_count": 1,
   "id": "10a7b881",
   "metadata": {},
   "outputs": [],
   "source": [
    "# FIN DEL EXAMEN"
   ]
  }
 ],
 "metadata": {
  "kernelspec": {
   "display_name": "Python 3",
   "language": "python",
   "name": "python3"
  },
  "language_info": {
   "codemirror_mode": {
    "name": "ipython",
    "version": 3
   },
   "file_extension": ".py",
   "mimetype": "text/x-python",
   "name": "python",
   "nbconvert_exporter": "python",
   "pygments_lexer": "ipython3",
   "version": "3.12.6"
  }
 },
 "nbformat": 4,
 "nbformat_minor": 5
}
